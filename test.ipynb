{
 "cells": [
  {
   "cell_type": "code",
   "execution_count": 115,
   "metadata": {},
   "outputs": [
    {
     "name": "stdout",
     "output_type": "stream",
     "text": [
      "4000\n"
     ]
    }
   ],
   "source": [
    "# Programmers _ Lv 1 _ 최소 직사각형\n",
    "\n",
    "\n",
    "def solution(sizes):\n",
    "    # 명함 크기 저장할 변수\n",
    "    wallet = sizes[0]\n",
    "    for i in sizes:\n",
    "        # 가로 길이보다 세로 길이가 길면\n",
    "        if i[0] < i[1]:\n",
    "            # 명함 회전\n",
    "            i[0], i[1] = i[1], i[0]\n",
    "        # 지갑의 크기와 명함의 크기 비교 후 큰 값을 지갑의 크기로 선택\n",
    "        wallet[0] = max(wallet[0], i[0])\n",
    "        wallet[1] = max(wallet[1], i[1])\n",
    "        # 면적 크기\n",
    "        answer = wallet[0] * wallet[1]\n",
    "    return answer"
   ]
  }
 ],
 "metadata": {
  "interpreter": {
   "hash": "f334c9ced55f2f3f69b38fc0536953b966db579d612d0bb945db738266a0eaf1"
  },
  "kernelspec": {
   "display_name": "Python 3.8.12 ('pject')",
   "language": "python",
   "name": "python3"
  },
  "language_info": {
   "codemirror_mode": {
    "name": "ipython",
    "version": 3
   },
   "file_extension": ".py",
   "mimetype": "text/x-python",
   "name": "python",
   "nbconvert_exporter": "python",
   "pygments_lexer": "ipython3",
   "version": "3.8.12"
  },
  "orig_nbformat": 4
 },
 "nbformat": 4,
 "nbformat_minor": 2
}
