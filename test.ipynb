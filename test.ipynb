{
 "cells": [
  {
   "cell_type": "code",
   "execution_count": 108,
   "metadata": {},
   "outputs": [
    {
     "name": "stdout",
     "output_type": "stream",
     "text": [
      "2a2ba3c\n",
      "aabbaccc\n",
      "aabbaccc\n",
      "aabbaccc\n"
     ]
    }
   ],
   "source": [
    "# 이코테 _ 구현 _ 문자열 압축\n",
    "\n",
    "s = \"aabbaccc\"\n",
    "\n",
    "def solution(s):\n",
    "    answer = len(s)\n",
    "    compressed = ''\n",
    "    \n",
    "    for word in range(1, len(s)//2 + 1):\n",
    "        compressed = ''\n",
    "        count = 1\n",
    "        before = s[0:word]\n",
    "\n",
    "        for j in range(word, len(s), word):\n",
    "            if before == s[j:j+word]:\n",
    "                count += 1\n",
    "\n",
    "            else:\n",
    "                compressed += str(count) + before if count >= 2 else before\n",
    "                count = 1\n",
    "\n",
    "        compressed += str(count) + before if count >= 2 else before\n",
    "    \n",
    "    return answer "
   ]
  },
  {
   "cell_type": "code",
   "execution_count": 125,
   "metadata": {},
   "outputs": [
    {
     "name": "stdout",
     "output_type": "stream",
     "text": [
      "[[0, 0, 0, 0], [0, 0, 0, 0], [0, 0, 0, 0]]\n"
     ]
    },
    {
     "data": {
      "text/plain": [
       "[[10, 7, 4, 1], [11, 8, 5, 2], [12, 9, 6, 3]]"
      ]
     },
     "execution_count": 125,
     "metadata": {},
     "output_type": "execute_result"
    }
   ],
   "source": [
    "# 이코테 _ 구현 _ 자물쇠와 열쇠\n",
    "# 복습 - 금\n",
    "\n",
    "# 2차원 리스트 90도 회전\n",
    "def rotate_a_matrix_by_90_degree(a):\n",
    "    n = len(a) # 행 길이 계산\n",
    "    m = len(a[0]) # 열 길이 계산\n",
    "    result = [[0] * n for _ in range(m)] # 결과 리스트\n",
    "    print(result)\n",
    "    for i in range(n):\n",
    "        for j in range(m):\n",
    "            result[j][n - i - 1] = a[i][j]\n",
    "    return result\n",
    "\n",
    "# 자물쇠의 중간 부분이 모두 1인지 확인\n",
    "def check(new_lock):\n",
    "    lock_length = len(new_lock) // 3\n",
    "    for i in range(lock_length, lock_length * 2):\n",
    "        for j in range(lock_length, lock_length * 2):\n",
    "            if new_lock[i][j] != 1:\n",
    "                return False\n",
    "        return True\n",
    "    \n",
    "def solution(key, lock):\n",
    "    n = len(lock)\n",
    "    m = len(key)\n",
    "    # 자물쇠의 크기를 기존의 3배로 변환\n",
    "    new_lock = [[0] * (n * 3) for _ in range(n * 3)]\n",
    "    # 새로운 자물쇠의 중앙 부분에 자물쇠 넣기\n",
    "    for i in range(n):\n",
    "        for j in range(n):\n",
    "            new_lock[i + n][j + n] = lock[i][j]\n",
    "\n",
    "    # 4가지 방향에 대해서 확인\n",
    "\n",
    "    for rotation in range(4):\n",
    "        key = rotate_a_matrix_by_90_degree(key) # 열쇠 회전\n",
    "        for x in range(n * 2):\n",
    "            for y in range(n * 2):\n",
    "                # 자물쇠에 열쇠를 끼워 넣기\n",
    "                for i in range(m):\n",
    "                    for j in range(m):\n",
    "                        new_lock[x + i][y + j] += key[i][j]\n",
    "                # 새로운 자물쇠에 열쇠가 정확히 들어맞는지 검사\n",
    "                if check(new_lock) == True:\n",
    "                    return True\n",
    "                # 자물쇠에서 열쇠를 다시 빼기\n",
    "                for i in range(m):\n",
    "                    for j in range(m):\n",
    "                        new_lock[x + i][y + j] -= key[i][j]\n",
    "\n",
    "    return False"
   ]
  },
  {
   "cell_type": "code",
   "execution_count": 27,
   "metadata": {},
   "outputs": [
    {
     "name": "stdout",
     "output_type": "stream",
     "text": [
      "[[1, 0, 0, 0, 0, 0], [0, 0, 0, 0, 'apple', 0], [0, 0, 0, 'apple', 0, 0], [0, 0, 0, 0, 0, 0], [0, 0, 'apple', 0, 0, 0], [0, 0, 0, 0, 0, 0]]\n"
     ]
    }
   ],
   "source": [
    "n = 6\n",
    "\n",
    "game = [[0] * n for _ in range(n)]\n",
    "# print(game)\n",
    "\n",
    "# k = int(input())\n",
    "k = 3\n",
    "\n",
    "# 사과 표시 _ game에 사과 위치를 1로 표시\n",
    "# for _ in range(k):\n",
    "#     a, b = map(int, input().split())\n",
    "#     game[a-1][b-1] = 'apple'\n",
    "\n",
    "\n",
    "# 사과가 있는 게임\n",
    "game = [[0, 0, 0, 0, 0, 0], [0, 0, 0, 0, 'apple', 0], [0, 0, 0, 'apple', 0, 0], [0, 0, 0, 0, 0, 0], [0, 0, 'apple', 0, 0, 0], [0, 0, 0, 0, 0, 0]]\n",
    "game[0][0] = 1\n",
    "head = game[0][0] # 뱀이 처음 있을 위치\n",
    "\n",
    "print(game)\n",
    "# l = int(input())\n",
    "l = 3\n",
    "# direct = [] # 회전 방향을 담을 리스트\n",
    "# for _ in range(l):\n",
    "#     a, b = map(str, input().split())\n",
    "#     direct.append((int(a), b))\n",
    "\n",
    "direct = [(3, 'D'), (15, 'L'), (17, 'D')]\n",
    "\n",
    "# 게임이 몇 초에 끝나는지 출력\n",
    "\n",
    "tail = 0\n",
    "cnt = 0\n",
    "now = 0\n",
    "while head != tail:\n",
    "    for i in range(direct[now][0]):\n",
    "        if direct[now][1] == 'D':\n"
   ]
  }
 ],
 "metadata": {
  "interpreter": {
   "hash": "f334c9ced55f2f3f69b38fc0536953b966db579d612d0bb945db738266a0eaf1"
  },
  "kernelspec": {
   "display_name": "Python 3.8.12 ('pject')",
   "language": "python",
   "name": "python3"
  },
  "language_info": {
   "codemirror_mode": {
    "name": "ipython",
    "version": 3
   },
   "file_extension": ".py",
   "mimetype": "text/x-python",
   "name": "python",
   "nbconvert_exporter": "python",
   "pygments_lexer": "ipython3",
   "version": "3.8.12"
  },
  "orig_nbformat": 4
 },
 "nbformat": 4,
 "nbformat_minor": 2
}
