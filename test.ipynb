{
 "cells": [
  {
   "cell_type": "code",
   "execution_count": 8,
   "metadata": {},
   "outputs": [
    {
     "name": "stdout",
     "output_type": "stream",
     "text": [
      "[[], [], [], [], [], [], [], [], [], [], [], [], [], [], [], []]\n",
      "[['2', '0'], ['1', '1', '1'], ['1', '1', '1'], [], [], [], [], [], [], [], [], [], [], [], [], []]\n",
      "[['2', '0'], ['1', '1', '1'], ['1', '1', '1']]\n",
      "data ['20', '111', '111']\n",
      "[]\n"
     ]
    }
   ],
   "source": [
    "#n-tuple\n",
    "\n",
    "s = \"{{20,111},{111}}\"\n",
    "\n",
    "data = [[] for _ in range(len(s))]\n",
    "answer = []\n",
    "cnt = 0\n",
    "\n",
    "print(data)\n",
    "\n",
    "for i in range(len(s)):\n",
    "    if s[i] == '{': \n",
    "        continue\n",
    "    elif s[i].isdecimal():\n",
    "        data[cnt].append(s[i]) # 리스트 안에 리스트로 더하는 코드 다시 만들긷\n",
    "    elif s[i] == ',':\n",
    "        cnt += 1\n",
    "\n",
    "print(data)\n",
    "\n",
    "data.sort(key=len)\n",
    "\n",
    "for i in range(len(data)): # 빈 리스트 제거\n",
    "    if len(data[i]) > 0:\n",
    "        data = data[i:]\n",
    "        break\n",
    "\n",
    "print(data)\n",
    "\n",
    "for i in range(len(data)):\n",
    "    data[i] = ''.join(data[i])\n",
    "\n",
    "print('data', data)\n",
    "\n",
    "\n",
    "print(answer)"
   ]
  },
  {
   "cell_type": "code",
   "execution_count": 51,
   "metadata": {},
   "outputs": [
    {
     "name": "stdout",
     "output_type": "stream",
     "text": [
      "[['3'], ['2', '3'], ['4', '2', '3'], ['2', '3', '4', '1']]\n",
      "[3, 2, 4, 1]\n"
     ]
    }
   ],
   "source": [
    "# n - tuple\n",
    "\n",
    "s = \"{{4,2,3},{3},{2,3,4,1},{2,3}}\"\n",
    "\n",
    "def solution(s):\n",
    "    data = [[] for _ in range(len(s))] # 숫자를 넣을 리스트 초기화\n",
    "\n",
    "    s = s[1:len(s)-1] # 어차피 집합의 모임이므로, 제일 바깥 괄호 제거\n",
    "    num = '' # 임시 숫자를 담을 변수\n",
    "    answer = [] # 정답을 담을 변수\n",
    "\n",
    "    for i in range(len(s)):\n",
    "        if s[i] == '{': # {이면 임시 숫자 시작\n",
    "            now = i\n",
    "            flag = True\n",
    "        elif s[i].isdecimal(): # 숫자이면\n",
    "            num += s[i] # 임시 숫자에 저장\n",
    "        elif s[i] == ',': # ,가 나오면 같은 리스트 내 다른 숫자인지, 다른 집합인지 구별\n",
    "            if flag == True: # 같은 리스트 내 다른 숫자이면\n",
    "                data[now].append(num) # now와 같은 리스트에 더하기\n",
    "                num = '' # 임시 숫자 초기화\n",
    "        elif s[i] == '}': # 임시 숫자 입력 끝\n",
    "            data[now].append(num)\n",
    "            num = ''\n",
    "            flag = False\n",
    "\n",
    "    data.sort(key=len) # 원소 수대로 정렬\n",
    "\n",
    "    for i in range(len(data)): # 빈 리스트 제거\n",
    "        if len(data[i]) > 0:\n",
    "            data = data[i:] # 빈 리스트들 삭제\n",
    "            break\n",
    "\n",
    "    for i in data:\n",
    "        for num in i:\n",
    "            if int(num) not in answer: # 원소 길이가 1인 리스트부터 하나씩 더해져가며 집합이 생기므로, 중복 제거하여 튜플 만들기\n",
    "                answer.append(int(num))\n",
    "\n",
    "    return answer"
   ]
  }
 ],
 "metadata": {
  "interpreter": {
   "hash": "f334c9ced55f2f3f69b38fc0536953b966db579d612d0bb945db738266a0eaf1"
  },
  "kernelspec": {
   "display_name": "Python 3.8.12 ('pject')",
   "language": "python",
   "name": "python3"
  },
  "language_info": {
   "codemirror_mode": {
    "name": "ipython",
    "version": 3
   },
   "file_extension": ".py",
   "mimetype": "text/x-python",
   "name": "python",
   "nbconvert_exporter": "python",
   "pygments_lexer": "ipython3",
   "version": "3.8.12"
  },
  "orig_nbformat": 4
 },
 "nbformat": 4,
 "nbformat_minor": 2
}
