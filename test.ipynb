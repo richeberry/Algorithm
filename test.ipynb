{
 "cells": [
  {
   "cell_type": "code",
   "execution_count": 157,
   "metadata": {},
   "outputs": [
    {
     "name": "stdout",
     "output_type": "stream",
     "text": [
      "2\n"
     ]
    }
   ],
   "source": [
    "knight = list(''.join(input())) # 리스트로 받아오기\n",
    "\n",
    "knight[0] = ord(knight[0])-96 #행의 알파벳을 숫자로 변경\n",
    "knight[1] = int(knight[1]) # 문자열로 받은 열을 숫자로 변경\n",
    "moves = [(-2,-1),(-2,1),(2,-1),(2,1),(-1,-2),(-1,2),(1,-2),(1,2)] # 나이트가 움직일 수 있는 경우의 수\n",
    "\n",
    "cnt = 0 # 움직일 수 있는 자리의 개수\n",
    "for move in moves:\n",
    "    now = [x+y for x,y in zip(knight,move)] # 나이트가 움직일 수 있는 경우의 수를 현재 위치와 더함(이동)\n",
    "    if min(now) > 0 and max(now) < 9: # 더한 자리의 최솟값이 1 이상이고, 최댓값이 8 이하면 체스판 안에 있으므로\n",
    "        cnt += 1 # 움직일 수 있는 자리이다.\n",
    "\n",
    "print(cnt)"
   ]
  }
 ],
 "metadata": {
  "interpreter": {
   "hash": "545e036c4b32438aced1f6b3c8d38ca151d9c36189e05839cb0aa568fda70ddd"
  },
  "kernelspec": {
   "display_name": "Python",
   "language": "python",
   "name": "python3"
  },
  "language_info": {
   "codemirror_mode": {
    "name": "ipython",
    "version": 3
   },
   "file_extension": ".py",
   "mimetype": "text/x-python",
   "name": "python",
   "nbconvert_exporter": "python",
   "pygments_lexer": "ipython3",
   "version": "3.9.7"
  },
  "orig_nbformat": 4
 },
 "nbformat": 4,
 "nbformat_minor": 2
}
