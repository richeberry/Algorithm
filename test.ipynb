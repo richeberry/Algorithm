{
 "cells": [
  {
   "cell_type": "code",
   "execution_count": 108,
   "metadata": {},
   "outputs": [
    {
     "name": "stdout",
     "output_type": "stream",
     "text": [
      "2a2ba3c\n",
      "aabbaccc\n",
      "aabbaccc\n",
      "aabbaccc\n"
     ]
    }
   ],
   "source": [
    "# 이코테 _ 구현 _ 문자열 압축\n",
    "\n",
    "s = \"aabbaccc\"\n",
    "\n",
    "def solution(s):\n",
    "    answer = len(s)\n",
    "    compressed = ''\n",
    "    \n",
    "    for word in range(1, len(s)//2 + 1):\n",
    "        compressed = ''\n",
    "        count = 1\n",
    "        before = s[0:word]\n",
    "\n",
    "        for j in range(word, len(s), word):\n",
    "            if before == s[j:j+word]:\n",
    "                count += 1\n",
    "\n",
    "            else:\n",
    "                compressed += str(count) + before if count >= 2 else before\n",
    "                count = 1\n",
    "\n",
    "        compressed += str(count) + before if count >= 2 else before\n",
    "    \n",
    "    return answer "
   ]
  },
  {
   "cell_type": "code",
   "execution_count": 125,
   "metadata": {},
   "outputs": [
    {
     "name": "stdout",
     "output_type": "stream",
     "text": [
      "[[0, 0, 0, 0], [0, 0, 0, 0], [0, 0, 0, 0]]\n"
     ]
    },
    {
     "data": {
      "text/plain": [
       "[[10, 7, 4, 1], [11, 8, 5, 2], [12, 9, 6, 3]]"
      ]
     },
     "execution_count": 125,
     "metadata": {},
     "output_type": "execute_result"
    }
   ],
   "source": [
    "# 이코테 _ 구현 _ 자물쇠와 열쇠\n",
    "# 복습 - 금\n",
    "\n",
    "# 2차원 리스트 90도 회전\n",
    "def rotate_a_matrix_by_90_degree(a):\n",
    "    n = len(a) # 행 길이 계산\n",
    "    m = len(a[0]) # 열 길이 계산\n",
    "    result = [[0] * n for _ in range(m)] # 결과 리스트\n",
    "    print(result)\n",
    "    for i in range(n):\n",
    "        for j in range(m):\n",
    "            result[j][n - i - 1] = a[i][j]\n",
    "    return result\n",
    "\n",
    "# 자물쇠의 중간 부분이 모두 1인지 확인\n",
    "def check(new_lock):\n",
    "    lock_length = len(new_lock) // 3\n",
    "    for i in range(lock_length, lock_length * 2):\n",
    "        for j in range(lock_length, lock_length * 2):\n",
    "            if new_lock[i][j] != 1:\n",
    "                return False\n",
    "        return True\n",
    "    \n",
    "def solution(key, lock):\n",
    "    n = len(lock)\n",
    "    m = len(key)\n",
    "    # 자물쇠의 크기를 기존의 3배로 변환\n",
    "    new_lock = [[0] * (n * 3) for _ in range(n * 3)]\n",
    "    # 새로운 자물쇠의 중앙 부분에 자물쇠 넣기\n",
    "    for i in range(n):\n",
    "        for j in range(n):\n",
    "            new_lock[i + n][j + n] = lock[i][j]\n",
    "\n",
    "    # 4가지 방향에 대해서 확인\n",
    "\n",
    "    for rotation in range(4):\n",
    "        key = rotate_a_matrix_by_90_degree(key) # 열쇠 회전\n",
    "        for x in range(n * 2):\n",
    "            for y in range(n * 2):\n",
    "                # 자물쇠에 열쇠를 끼워 넣기\n",
    "                for i in range(m):\n",
    "                    for j in range(m):\n",
    "                        new_lock[x + i][y + j] += key[i][j]\n",
    "                # 새로운 자물쇠에 열쇠가 정확히 들어맞는지 검사\n",
    "                if check(new_lock) == True:\n",
    "                    return True\n",
    "                # 자물쇠에서 열쇠를 다시 빼기\n",
    "                for i in range(m):\n",
    "                    for j in range(m):\n",
    "                        new_lock[x + i][y + j] -= key[i][j]\n",
    "\n",
    "    return False"
   ]
  },
  {
   "cell_type": "code",
   "execution_count": 63,
   "metadata": {},
   "outputs": [
    {
     "name": "stdout",
     "output_type": "stream",
     "text": [
      "1\n",
      "[[1, 0, 0, 0, 0, 0], [0, 0, 0, 0, 'apple', 0], [0, 0, 0, 'apple', 0, 0], [0, 0, 0, 0, 0, 0], [0, 0, 'apple', 0, 0, 0], [0, 0, 0, 0, 0, 0]]\n",
      "i 0\n",
      "[[1, 0, 0, 0, 0, 0], [1, 0, 0, 0, 'apple', 0], [1, 0, 0, 'apple', 0, 0], [0, 0, 0, 0, 0, 0], [0, 0, 'apple', 0, 0, 0], [0, 0, 0, 0, 0, 0]]\n",
      "noww 3\n",
      "i 1\n",
      "j 0\n"
     ]
    },
    {
     "ename": "IndexError",
     "evalue": "list index out of range",
     "output_type": "error",
     "traceback": [
      "\u001b[0;31m---------------------------------------------------------------------------\u001b[0m",
      "\u001b[0;31mIndexError\u001b[0m                                Traceback (most recent call last)",
      "\u001b[1;32m/Users/songy/Documents/Codes/Algorithm/test.ipynb Cell 3'\u001b[0m in \u001b[0;36m<cell line: 38>\u001b[0;34m()\u001b[0m\n\u001b[1;32m     <a href='vscode-notebook-cell:/Users/songy/Documents/Codes/Algorithm/test.ipynb#ch0000002?line=55'>56</a>\u001b[0m nowh \u001b[39m+\u001b[39m\u001b[39m=\u001b[39m \u001b[39m1\u001b[39m\n\u001b[1;32m     <a href='vscode-notebook-cell:/Users/songy/Documents/Codes/Algorithm/test.ipynb#ch0000002?line=56'>57</a>\u001b[0m cnt \u001b[39m+\u001b[39m\u001b[39m=\u001b[39m \u001b[39m1\u001b[39m\n\u001b[0;32m---> <a href='vscode-notebook-cell:/Users/songy/Documents/Codes/Algorithm/test.ipynb#ch0000002?line=57'>58</a>\u001b[0m head \u001b[39m=\u001b[39m [noww][nowh]\n\u001b[1;32m     <a href='vscode-notebook-cell:/Users/songy/Documents/Codes/Algorithm/test.ipynb#ch0000002?line=58'>59</a>\u001b[0m \u001b[39mprint\u001b[39m(\u001b[39m\"\u001b[39m\u001b[39mnoww\u001b[39m\u001b[39m\"\u001b[39m, noww)\n\u001b[1;32m     <a href='vscode-notebook-cell:/Users/songy/Documents/Codes/Algorithm/test.ipynb#ch0000002?line=59'>60</a>\u001b[0m \u001b[39mprint\u001b[39m(\u001b[39m\"\u001b[39m\u001b[39mhead\u001b[39m\u001b[39m\"\u001b[39m, head)\n",
      "\u001b[0;31mIndexError\u001b[0m: list index out of range"
     ]
    }
   ],
   "source": [
    "n = 6\n",
    "\n",
    "game = [[0] * n for _ in range(n)]\n",
    "# print(game)\n",
    "\n",
    "# k = int(input())\n",
    "k = 3\n",
    "\n",
    "# 사과 표시 _ game에 사과 위치를 1로 표시\n",
    "# for _ in range(k):\n",
    "#     a, b = map(int, input().split())\n",
    "#     game[a-1][b-1] = 'apple'\n",
    "\n",
    "\n",
    "# 사과가 있는 게임\n",
    "game = [[0, 0, 0, 0, 0, 0], [0, 0, 0, 0, 'apple', 0], [0, 0, 0, 'apple', 0, 0], [0, 0, 0, 0, 0, 0], [0, 0, 'apple', 0, 0, 0], [0, 0, 0, 0, 0, 0]]\n",
    "game[0][0] = 1\n",
    "tail = 0\n",
    "cnt = 0\n",
    "noww = 0 # 현재 행 위치\n",
    "nowh = 0 # 현재 열 위치\n",
    "head = game[noww][nowh] # 뱀이 처음 있을 위치\n",
    "before = game[noww][nowh]\n",
    "print(head)\n",
    "print(game)\n",
    "# l = int(input())\n",
    "l = 3\n",
    "# direct = [] # 회전 방향을 담을 리스트\n",
    "# for _ in range(l):\n",
    "#     a, b = map(str, input().split())\n",
    "#     direct.append((int(a), b))\n",
    "\n",
    "direct = [(3, 'D'), (15, 'L'), (17, 'D')]\n",
    "\n",
    "# 게임이 몇 초에 끝나는지 출력\n",
    "\n",
    "\n",
    "while head != tail:\n",
    "    for i in range(len(direct)):\n",
    "        print(\"i\", i)\n",
    "        if direct[i][1] == 'D':\n",
    "            for j in range(direct[i][0]):\n",
    "                tail = [noww][nowh]\n",
    "                game[noww][nowh] = 1\n",
    "                noww += 1\n",
    "                cnt += 1\n",
    "                head = [noww][nowh]\n",
    "            print(game)\n",
    "            print(\"noww\", noww)\n",
    "        elif direct[i][1] == 'L':\n",
    "            for j in range(direct[i][0]):\n",
    "                print(\"j\", j)\n",
    "                if game[noww][nowh] != 'apple':\n",
    "                    before = 0\n",
    "                game[noww][nowh] = 1\n",
    "                nowh += 1\n",
    "                cnt += 1\n",
    "                head = [noww][nowh]\n",
    "                print(\"noww\", noww)\n",
    "                print(\"head\", head)\n",
    "            print(game)\n",
    "print(game)"
   ]
  },
  {
   "cell_type": "code",
   "execution_count": 26,
   "metadata": {},
   "outputs": [
    {
     "name": "stdout",
     "output_type": "stream",
     "text": [
      "[5, 4, 1, 1, 2, 1, 0]\n"
     ]
    }
   ],
   "source": [
    "# 정확성 테스트 통과, 효율성 테스트 0점\n",
    "\n",
    "prices = [1, 2, 3, 2, 3]\n",
    "\n",
    "answer = []\n",
    "\n",
    "while prices:\n",
    "    now = prices.pop(0)\n",
    "    cnt = 1\n",
    "    for i in range(len(prices)):\n",
    "        if now > prices[i]:\n",
    "            answer.append(cnt)\n",
    "            break\n",
    "        elif i == len(prices)-1:\n",
    "            answer.append(cnt)\n",
    "        else:\n",
    "            cnt += 1\n",
    "\n",
    "answer.append(0)\n",
    "\n",
    "print(answer)"
   ]
  },
  {
   "cell_type": "code",
   "execution_count": 37,
   "metadata": {},
   "outputs": [
    {
     "name": "stdout",
     "output_type": "stream",
     "text": [
      "[[5, 3, 7, 2, 3], [3, 7, 1, 6, 1], [7, 2, 5, 3, 4], [4, 3, 6, 4, 1], [8, 7, 3, 5, 2]]\n",
      "[[0, 0, 0, 0, 0, 0, 0], [0, 5, 3, 7, 2, 3, 0], [0, 3, 7, 1, 6, 1, 0], [0, 7, 2, 5, 3, 4, 0], [0, 4, 3, 6, 4, 1, 0], [0, 8, 7, 3, 5, 2, 0], [0, 0, 0, 0, 0, 0, 0]]\n",
      "3\n",
      "5\n",
      "7\n",
      "8\n",
      "10\n"
     ]
    }
   ],
   "source": [
    "# Inflearn _ Section 3 봉우리\n",
    "# n = int(input())\n",
    "dx = [-1, 0, 1 ,0] # 좌, 우\n",
    "dy = [0, 1, 0, -1] # 상, 하\n",
    "array = [list(map(int, input().split())) for _ in range(n)]\n",
    "\n",
    "# 지도 가장자리에 0 초기화\n",
    "array.insert(0, [0] * n) # 0번 열에 [0] * n 삽입\n",
    "array.append([0] * n) # n+1번 열에 [0] * n 추가\n",
    "\n",
    "for x in array:\n",
    "    x.insert(0, 0) # 행의 0번째에 0 삽입\n",
    "    x.append(0) # 행의 n+1번째에 0 추가\n",
    "print(array)\n",
    "\n",
    "cnt = 0 # 회수 초기화\n",
    "\n",
    "for i in range(1, n+1):\n",
    "    for j in range(1, n+1):\n",
    "        if all(array[i][j] > array[i+dx[k]][j+dy[k]] for k in range(4)):# 행과 열 (상하좌우) 확인 - 모두가 참일 때 all이 참\n",
    "            cnt += 1\n",
    "    print(cnt)"
   ]
  },
  {
   "cell_type": "code",
   "execution_count": 45,
   "metadata": {},
   "outputs": [
    {
     "name": "stdout",
     "output_type": "stream",
     "text": [
      "[[0, 0, 0, 0, 0, 0, 0], [0, 5, 3, 7, 2, 3, 0], [0, 3, 7, 1, 6, 1, 0], [0, 7, 2, 5, 3, 4, 0], [0, 4, 3, 6, 4, 1, 0], [0, 8, 7, 3, 5, 2, 0], [0, 0, 0, 0, 0, 0, 0]]\n",
      "10\n"
     ]
    }
   ],
   "source": [
    "n = 5\n",
    "dx = [-1, 0, 1, 0] # 좌, 우\n",
    "dy = [0, 1, 0, -1] # 상, 하\n",
    "\n",
    "array = [[5, 3, 7, 2, 3], [3, 7, 1, 6, 1], [7, 2, 5, 3, 4], [4, 3, 6, 4, 1], [8, 7, 3, 5, 2]]\n",
    "array.insert(0, [0] * n )\n",
    "array.append([0] * n)\n",
    "\n",
    "\n",
    "for x in array:\n",
    "    x.insert(0, 0)\n",
    "    x.append(0)\n",
    "\n",
    "cnt = 0\n",
    "print(array)\n",
    "\n",
    "for i in range(1, n+1):\n",
    "    for j in range(1, n+1):\n",
    "        if all(array[i][j] > array[i+dx[k]][j+dy[k]] for k in range(4)):\n",
    "            cnt += 1\n",
    "\n",
    "print(cnt)"
   ]
  }
 ],
 "metadata": {
  "interpreter": {
   "hash": "f334c9ced55f2f3f69b38fc0536953b966db579d612d0bb945db738266a0eaf1"
  },
  "kernelspec": {
   "display_name": "Python 3.8.12 ('pject')",
   "language": "python",
   "name": "python3"
  },
  "language_info": {
   "codemirror_mode": {
    "name": "ipython",
    "version": 3
   },
   "file_extension": ".py",
   "mimetype": "text/x-python",
   "name": "python",
   "nbconvert_exporter": "python",
   "pygments_lexer": "ipython3",
   "version": "3.8.12"
  },
  "orig_nbformat": 4
 },
 "nbformat": 4,
 "nbformat_minor": 2
}
