{
 "cells": [
  {
   "cell_type": "code",
   "execution_count": 102,
   "metadata": {},
   "outputs": [
    {
     "name": "stdout",
     "output_type": "stream",
     "text": [
      "0\n",
      "apples [10]\n",
      "1\n",
      "apples [39, 30, 23]\n",
      "2\n",
      "apples [11, 25, 50, 53, 15]\n",
      "3\n",
      "[27, 29, 37]\n",
      "4\n",
      "[30]\n",
      "379\n"
     ]
    }
   ],
   "source": [
    "n = int(input())\n",
    "apples = [list(map(int, input().split())) for i in range(n)]\n",
    "get = 0\n",
    "for i in range(n):\n",
    "    if i <= n//2:\n",
    "        get += sum(apples[i][(n // 2) - i:(n // 2) + i+1])\n",
    "\n",
    "    else:\n",
    "        get += sum(apples[i][- (n + n // 2) + i:(n // 2) - i])\n",
    "print(get)"
   ]
  }
 ],
 "metadata": {
  "interpreter": {
   "hash": "f334c9ced55f2f3f69b38fc0536953b966db579d612d0bb945db738266a0eaf1"
  },
  "kernelspec": {
   "display_name": "Python 3.8.12 ('pject')",
   "language": "python",
   "name": "python3"
  },
  "language_info": {
   "codemirror_mode": {
    "name": "ipython",
    "version": 3
   },
   "file_extension": ".py",
   "mimetype": "text/x-python",
   "name": "python",
   "nbconvert_exporter": "python",
   "pygments_lexer": "ipython3",
   "version": "3.8.12"
  },
  "orig_nbformat": 4
 },
 "nbformat": 4,
 "nbformat_minor": 2
}
