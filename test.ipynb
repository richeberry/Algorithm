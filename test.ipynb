{
 "cells": [
  {
   "cell_type": "code",
   "execution_count": 139,
   "metadata": {},
   "outputs": [
    {
     "name": "stdout",
     "output_type": "stream",
     "text": [
      "quo, divided 1 2\n",
      "[2, 1]\n",
      "0\n",
      "1\n"
     ]
    }
   ],
   "source": [
    "# 무지의 먹방 라이브\n",
    "\n",
    "food_times = [3, 1, 2]\n",
    "k = 5\n",
    "\n",
    "answer = 0\n",
    "quo = k // len(food_times)\n",
    "divided = k % len(food_times)\n",
    "print('quo, divided', quo, divided)\n",
    "\n",
    "\n",
    "for i in range(len(food_times)):\n",
    "    food_times[i] -= quo\n",
    "\n",
    "for i in food_times:\n",
    "    if i == 0:\n",
    "        food_times.pop(food_times[i-1])\n",
    "\n",
    "print(food_times)\n",
    "\n",
    "for i in range(divided):\n",
    "    print(i)"
   ]
  },
  {
   "cell_type": "code",
   "execution_count": 163,
   "metadata": {},
   "outputs": [
    {
     "name": "stdout",
     "output_type": "stream",
     "text": [
      "READY\n"
     ]
    }
   ],
   "source": [
    "n = int(input())\n",
    "n = str(n)\n",
    "num = [0] * 2\n",
    "for i in range(len(n)):\n",
    "    if i < (len(n) // 2): num[0] += int(n[i])\n",
    "    else:\n",
    "        num[1] += int(n[i])\n",
    "\n",
    "if num[0] == num[1]:\n",
    "    print(\"LUCKY\")\n",
    "else:\n",
    "    print(\"READY\")"
   ]
  }
 ],
 "metadata": {
  "interpreter": {
   "hash": "f334c9ced55f2f3f69b38fc0536953b966db579d612d0bb945db738266a0eaf1"
  },
  "kernelspec": {
   "display_name": "Python 3.8.12 ('pject')",
   "language": "python",
   "name": "python3"
  },
  "language_info": {
   "codemirror_mode": {
    "name": "ipython",
    "version": 3
   },
   "file_extension": ".py",
   "mimetype": "text/x-python",
   "name": "python",
   "nbconvert_exporter": "python",
   "pygments_lexer": "ipython3",
   "version": "3.8.12"
  },
  "orig_nbformat": 4
 },
 "nbformat": 4,
 "nbformat_minor": 2
}
