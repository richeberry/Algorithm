{
 "cells": [
  {
   "cell_type": "code",
   "execution_count": 50,
   "metadata": {},
   "outputs": [
    {
     "ename": "KeyboardInterrupt",
     "evalue": "Interrupted by user",
     "output_type": "error",
     "traceback": [
      "\u001b[0;31m---------------------------------------------------------------------------\u001b[0m",
      "\u001b[0;31mKeyboardInterrupt\u001b[0m                         Traceback (most recent call last)",
      "\u001b[1;32m/Users/songy/Documents/Codes/Algorithm/test.ipynb Cell 1'\u001b[0m in \u001b[0;36m<cell line: 3>\u001b[0;34m()\u001b[0m\n\u001b[1;32m      <a href='vscode-notebook-cell:/Users/songy/Documents/Codes/Algorithm/test.ipynb#ch0000002?line=0'>1</a>\u001b[0m \u001b[39m# Inflearn _ Section 3 수의 합\u001b[39;00m\n\u001b[0;32m----> <a href='vscode-notebook-cell:/Users/songy/Documents/Codes/Algorithm/test.ipynb#ch0000002?line=2'>3</a>\u001b[0m n, m \u001b[39m=\u001b[39m \u001b[39mmap\u001b[39m(\u001b[39mint\u001b[39m, \u001b[39minput\u001b[39;49m()\u001b[39m.\u001b[39msplit())\n\u001b[1;32m      <a href='vscode-notebook-cell:/Users/songy/Documents/Codes/Algorithm/test.ipynb#ch0000002?line=3'>4</a>\u001b[0m lst \u001b[39m=\u001b[39m \u001b[39mlist\u001b[39m(\u001b[39mmap\u001b[39m(\u001b[39mint\u001b[39m, \u001b[39minput\u001b[39m()\u001b[39m.\u001b[39msplit()))\n\u001b[1;32m      <a href='vscode-notebook-cell:/Users/songy/Documents/Codes/Algorithm/test.ipynb#ch0000002?line=5'>6</a>\u001b[0m tmp \u001b[39m=\u001b[39m \u001b[39m0\u001b[39m\n",
      "File \u001b[0;32m~/opt/anaconda3/envs/pject/lib/python3.8/site-packages/ipykernel/kernelbase.py:1076\u001b[0m, in \u001b[0;36mKernel.raw_input\u001b[0;34m(self, prompt)\u001b[0m\n\u001b[1;32m   <a href='file:///Users/songy/opt/anaconda3/envs/pject/lib/python3.8/site-packages/ipykernel/kernelbase.py?line=1071'>1072</a>\u001b[0m \u001b[39mif\u001b[39;00m \u001b[39mnot\u001b[39;00m \u001b[39mself\u001b[39m\u001b[39m.\u001b[39m_allow_stdin:\n\u001b[1;32m   <a href='file:///Users/songy/opt/anaconda3/envs/pject/lib/python3.8/site-packages/ipykernel/kernelbase.py?line=1072'>1073</a>\u001b[0m     \u001b[39mraise\u001b[39;00m StdinNotImplementedError(\n\u001b[1;32m   <a href='file:///Users/songy/opt/anaconda3/envs/pject/lib/python3.8/site-packages/ipykernel/kernelbase.py?line=1073'>1074</a>\u001b[0m         \u001b[39m\"\u001b[39m\u001b[39mraw_input was called, but this frontend does not support input requests.\u001b[39m\u001b[39m\"\u001b[39m\n\u001b[1;32m   <a href='file:///Users/songy/opt/anaconda3/envs/pject/lib/python3.8/site-packages/ipykernel/kernelbase.py?line=1074'>1075</a>\u001b[0m     )\n\u001b[0;32m-> <a href='file:///Users/songy/opt/anaconda3/envs/pject/lib/python3.8/site-packages/ipykernel/kernelbase.py?line=1075'>1076</a>\u001b[0m \u001b[39mreturn\u001b[39;00m \u001b[39mself\u001b[39;49m\u001b[39m.\u001b[39;49m_input_request(\n\u001b[1;32m   <a href='file:///Users/songy/opt/anaconda3/envs/pject/lib/python3.8/site-packages/ipykernel/kernelbase.py?line=1076'>1077</a>\u001b[0m     \u001b[39mstr\u001b[39;49m(prompt),\n\u001b[1;32m   <a href='file:///Users/songy/opt/anaconda3/envs/pject/lib/python3.8/site-packages/ipykernel/kernelbase.py?line=1077'>1078</a>\u001b[0m     \u001b[39mself\u001b[39;49m\u001b[39m.\u001b[39;49m_parent_ident[\u001b[39m\"\u001b[39;49m\u001b[39mshell\u001b[39;49m\u001b[39m\"\u001b[39;49m],\n\u001b[1;32m   <a href='file:///Users/songy/opt/anaconda3/envs/pject/lib/python3.8/site-packages/ipykernel/kernelbase.py?line=1078'>1079</a>\u001b[0m     \u001b[39mself\u001b[39;49m\u001b[39m.\u001b[39;49mget_parent(\u001b[39m\"\u001b[39;49m\u001b[39mshell\u001b[39;49m\u001b[39m\"\u001b[39;49m),\n\u001b[1;32m   <a href='file:///Users/songy/opt/anaconda3/envs/pject/lib/python3.8/site-packages/ipykernel/kernelbase.py?line=1079'>1080</a>\u001b[0m     password\u001b[39m=\u001b[39;49m\u001b[39mFalse\u001b[39;49;00m,\n\u001b[1;32m   <a href='file:///Users/songy/opt/anaconda3/envs/pject/lib/python3.8/site-packages/ipykernel/kernelbase.py?line=1080'>1081</a>\u001b[0m )\n",
      "File \u001b[0;32m~/opt/anaconda3/envs/pject/lib/python3.8/site-packages/ipykernel/kernelbase.py:1121\u001b[0m, in \u001b[0;36mKernel._input_request\u001b[0;34m(self, prompt, ident, parent, password)\u001b[0m\n\u001b[1;32m   <a href='file:///Users/songy/opt/anaconda3/envs/pject/lib/python3.8/site-packages/ipykernel/kernelbase.py?line=1117'>1118</a>\u001b[0m             \u001b[39mbreak\u001b[39;00m\n\u001b[1;32m   <a href='file:///Users/songy/opt/anaconda3/envs/pject/lib/python3.8/site-packages/ipykernel/kernelbase.py?line=1118'>1119</a>\u001b[0m \u001b[39mexcept\u001b[39;00m \u001b[39mKeyboardInterrupt\u001b[39;00m:\n\u001b[1;32m   <a href='file:///Users/songy/opt/anaconda3/envs/pject/lib/python3.8/site-packages/ipykernel/kernelbase.py?line=1119'>1120</a>\u001b[0m     \u001b[39m# re-raise KeyboardInterrupt, to truncate traceback\u001b[39;00m\n\u001b[0;32m-> <a href='file:///Users/songy/opt/anaconda3/envs/pject/lib/python3.8/site-packages/ipykernel/kernelbase.py?line=1120'>1121</a>\u001b[0m     \u001b[39mraise\u001b[39;00m \u001b[39mKeyboardInterrupt\u001b[39;00m(\u001b[39m\"\u001b[39m\u001b[39mInterrupted by user\u001b[39m\u001b[39m\"\u001b[39m) \u001b[39mfrom\u001b[39;00m \u001b[39mNone\u001b[39m\n\u001b[1;32m   <a href='file:///Users/songy/opt/anaconda3/envs/pject/lib/python3.8/site-packages/ipykernel/kernelbase.py?line=1121'>1122</a>\u001b[0m \u001b[39mexcept\u001b[39;00m \u001b[39mException\u001b[39;00m:\n\u001b[1;32m   <a href='file:///Users/songy/opt/anaconda3/envs/pject/lib/python3.8/site-packages/ipykernel/kernelbase.py?line=1122'>1123</a>\u001b[0m     \u001b[39mself\u001b[39m\u001b[39m.\u001b[39mlog\u001b[39m.\u001b[39mwarning(\u001b[39m\"\u001b[39m\u001b[39mInvalid Message:\u001b[39m\u001b[39m\"\u001b[39m, exc_info\u001b[39m=\u001b[39m\u001b[39mTrue\u001b[39;00m)\n",
      "\u001b[0;31mKeyboardInterrupt\u001b[0m: Interrupted by user"
     ]
    }
   ],
   "source": [
    "# Inflearn _ Section 3 수의 합\n",
    "\n",
    "n, m = map(int, input().split())\n",
    "lst = list(map(int, input().split()))\n",
    "\n",
    "tmp = 0\n",
    "cnt = 0\n",
    "\n",
    "i = 0\n",
    "while True:\n",
    "    tmp += lst[i]\n",
    "    i += 1\n",
    "    if tmp > m:\n",
    "        lst.pop(0)\n",
    "        tmp = 0\n",
    "        i = 0\n",
    "    elif tmp == m:\n",
    "        cnt += 1\n",
    "        tmp = 0\n",
    "        i = 0\n",
    "        lst.pop(0)\n",
    "\n",
    "    elif i >= len(lst):\n",
    "        break\n",
    "\n",
    "print(cnt)"
   ]
  },
  {
   "cell_type": "code",
   "execution_count": 62,
   "metadata": {},
   "outputs": [
    {
     "name": "stdout",
     "output_type": "stream",
     "text": [
      "155\n"
     ]
    }
   ],
   "source": [
    "n = 5\n",
    "\n",
    "# lattice = [list(map(int, input().split())) for i in range(n)]\n",
    "lattice = [[10, 13, 10, 12, 15], [12, 39, 30, 23, 11], [11, 25, 50, 53, 15], [19, 27, 29, 37, 27], [19, 13, 30, 13, 19]]\n",
    "# print(lattice)\n",
    "\n",
    "# 행의 합, 열의 합, 두 대각선의 합 중 가장 큰 합 출력\n",
    "# 1) 행의 합 -> \n",
    "max_v = sum(lattice[0])\n",
    "tmp = 0\n",
    "# print(max_v)\n",
    "for row in lattice:\n",
    "    if sum(row) > max_v:\n",
    "        max_v = sum(row)\n",
    "\n",
    "# 2) 열의 합\n",
    "for i in range(n):\n",
    "    max_v = max(tmp, max_v)\n",
    "    tmp = 0\n",
    "    for j in range(n):\n",
    "        tmp += lattice[j][i]\n",
    "tmp = 0\n",
    "\n",
    "# 3-1) 왼쪽 위부터 대각선의 합\n",
    "for i in range(n):\n",
    "    tmp += lattice[i][i]\n",
    "max_v = max(tmp, max_v)\n",
    "tmp = 0\n",
    "\n",
    "# 3-2) 오른쪽 위부터 대각선의 합\n",
    "for i in range(n-1, -1, -1):\n",
    "    tmp += lattice[(n-1)-i][i]\n",
    "max_v = max(tmp, max_v)\n",
    "\n",
    "print(max_v)\n",
    "\n",
    "\n"
   ]
  },
  {
   "cell_type": "code",
   "execution_count": null,
   "metadata": {},
   "outputs": [],
   "source": [
    "n = int(input())\n",
    "if n % 3 == 0:\n",
    "    n //= 3\n",
    "    \n"
   ]
  },
  {
   "cell_type": "code",
   "execution_count": 6,
   "metadata": {},
   "outputs": [
    {
     "name": "stdout",
     "output_type": "stream",
     "text": [
      "1300\n"
     ]
    }
   ],
   "source": [
    "# BOJ _ 2480\n",
    "\n",
    "money_lst = [] # 상금 저장할 리스트 초기화\n",
    "\n",
    "# 세 개의 주사위 던져서 같은 눈 수에 따라 게산\n",
    "\n",
    "dice = list(map(int,input().split()))\n",
    "if len(set(dice)) == 1: # 세 주사위의 눈이 다 같으면\n",
    "    money_lst.append(10000 + dice[0] * 1000) \n",
    "elif len(set(dice)) == 2: # 주사위의 눈이 두 개만 같으면\n",
    "    tmp = dice[0] # 같은 눈을 저장할 변수\n",
    "    for j in range(1, len(dice)):\n",
    "        if tmp == dice[j]: # 같은 눈이 나오면 그 눈으로 계산\n",
    "            money_lst.append(1000 + tmp * 100)\n",
    "else: # 같은 눈이 하나도 없으면\n",
    "    money_lst.append(max(dice) * 100)\n",
    "\n",
    "print(max(money_lst))\n",
    "\n",
    "\n",
    "# 다른 풀이\n",
    "a, b, c = map(int, input().split())\n",
    " \n",
    "if a == b and b == c:    # 3개가 동일한 경우\n",
    "    print(10000 + (a * 1000))\n",
    " \n",
    "elif a == b or b == c:    # 2개가 동일한 경우\n",
    "    print(1000 + (b * 100))\n",
    " \n",
    "elif a == c:    # 2개가 동일한 경우\n",
    "    print(1000 + (a * 100))\n",
    " \n",
    "else:    # 모두 다른 경우\n",
    "    print(max(a, b, c)*100)"
   ]
  }
 ],
 "metadata": {
  "interpreter": {
   "hash": "f334c9ced55f2f3f69b38fc0536953b966db579d612d0bb945db738266a0eaf1"
  },
  "kernelspec": {
   "display_name": "Python 3.8.12 ('pject')",
   "language": "python",
   "name": "python3"
  },
  "language_info": {
   "codemirror_mode": {
    "name": "ipython",
    "version": 3
   },
   "file_extension": ".py",
   "mimetype": "text/x-python",
   "name": "python",
   "nbconvert_exporter": "python",
   "pygments_lexer": "ipython3",
   "version": "3.8.12"
  },
  "orig_nbformat": 4
 },
 "nbformat": 4,
 "nbformat_minor": 2
}
