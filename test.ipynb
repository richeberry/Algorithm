{
 "cells": [
  {
   "cell_type": "code",
   "execution_count": 73,
   "metadata": {},
   "outputs": [
    {
     "name": "stdout",
     "output_type": "stream",
     "text": [
      "start deque([3, 1, 2])\n",
      "0\n",
      "last deque([1, 2, 2])\n",
      "deque([1, 2, 2])\n",
      "start deque([1, 2, 2])\n",
      "1\n",
      "last deque([2, 2, 0])\n",
      "deque([2, 2, 0])\n",
      "start deque([2, 2, 0])\n",
      "2\n",
      "last deque([2, 0, 1])\n",
      "deque([2, 0, 1])\n",
      "start deque([2, 0, 1])\n",
      "3\n",
      "last deque([0, 1, 1])\n",
      "deque([1, 1])\n",
      "start deque([1, 1])\n",
      "4\n",
      "last deque([1, 0])\n",
      "deque([1, 0])\n",
      "1\n"
     ]
    }
   ],
   "source": [
    "# 무지의 먹방 라이브\n",
    "\n",
    "food_times = [3, 1, 2]\n",
    "k = 5\n",
    "from collections import deque\n",
    "\n",
    "data = deque()\n",
    "\n",
    "for i in food_times:\n",
    "    data.append(i)\n",
    "\n",
    "\n",
    "for i in range(k):\n",
    "    print('start',data)\n",
    "    print(i)\n",
    "\n",
    "    data[0] -= 1\n",
    "    data.append(data.popleft())\n",
    "    print('last',data)\n",
    "    if data[0] == 0:\n",
    "        data.popleft()\n",
    "    print(data)\n",
    "\n",
    "print(data[0])\n"
   ]
  },
  {
   "cell_type": "code",
   "execution_count": 38,
   "metadata": {},
   "outputs": [
    {
     "data": {
      "text/plain": [
       "3"
      ]
     },
     "execution_count": 38,
     "metadata": {},
     "output_type": "execute_result"
    }
   ],
   "source": [
    "a = [1, 2, 3, 4]\n",
    "m = 3\n",
    "a.index(a[m])"
   ]
  },
  {
   "cell_type": "code",
   "execution_count": 125,
   "metadata": {},
   "outputs": [
    {
     "name": "stdout",
     "output_type": "stream",
     "text": [
      "[]\n",
      "['2']\n",
      "2\n",
      "['2', '1']\n",
      "2\n",
      "1\n",
      "['1', '2', '3']\n",
      "1\n",
      "2\n",
      "3\n",
      "['1', '2', '4', '3']\n",
      "1\n",
      "2\n",
      "4\n",
      "3\n",
      "[['2'], ['2', '1'], ['1', '2', '3'], ['1', '2', '4', '3']]\n",
      "['2', '1', '3', '4']\n"
     ]
    }
   ],
   "source": [
    "s = \"{{1,2,3},{2,1},{1,2,4,3},{2}}\"\n",
    "\n",
    "data = [[] for _ in range(len(s)//2)]\n",
    "answer = []\n",
    "cnt = 0\n",
    "for i in range(len(s)):\n",
    "\n",
    "    if s[i] == '{': \n",
    "        continue\n",
    "    elif s[i].isdecimal():\n",
    "        data[cnt].append(s[i])\n",
    "    elif s[i] == '}':\n",
    "        cnt += 1\n",
    "\n",
    "data.sort(key=len)\n",
    "\n",
    "for i in range(len(data)): # 빈 리스트 제거\n",
    "    if len(data[i]) > 0:\n",
    "        data = data[i:]\n",
    "        break\n",
    "\n",
    "print(answer)\n",
    "for i in data:\n",
    "    print(i)\n",
    "    for j in i:\n",
    "        print(j)\n",
    "        if j not in answer:\n",
    "            answer.append(int(j))\n",
    "\n",
    "\n",
    "\n",
    "print(data)\n",
    "print(answer)"
   ]
  }
 ],
 "metadata": {
  "interpreter": {
   "hash": "f334c9ced55f2f3f69b38fc0536953b966db579d612d0bb945db738266a0eaf1"
  },
  "kernelspec": {
   "display_name": "Python 3.8.12 ('pject')",
   "language": "python",
   "name": "python3"
  },
  "language_info": {
   "codemirror_mode": {
    "name": "ipython",
    "version": 3
   },
   "file_extension": ".py",
   "mimetype": "text/x-python",
   "name": "python",
   "nbconvert_exporter": "python",
   "pygments_lexer": "ipython3",
   "version": "3.8.12"
  },
  "orig_nbformat": 4
 },
 "nbformat": 4,
 "nbformat_minor": 2
}
