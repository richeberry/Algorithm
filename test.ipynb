{
 "cells": [
  {
   "cell_type": "code",
   "execution_count": 73,
   "metadata": {},
   "outputs": [
    {
     "name": "stdout",
     "output_type": "stream",
     "text": [
      "start deque([3, 1, 2])\n",
      "0\n",
      "last deque([1, 2, 2])\n",
      "deque([1, 2, 2])\n",
      "start deque([1, 2, 2])\n",
      "1\n",
      "last deque([2, 2, 0])\n",
      "deque([2, 2, 0])\n",
      "start deque([2, 2, 0])\n",
      "2\n",
      "last deque([2, 0, 1])\n",
      "deque([2, 0, 1])\n",
      "start deque([2, 0, 1])\n",
      "3\n",
      "last deque([0, 1, 1])\n",
      "deque([1, 1])\n",
      "start deque([1, 1])\n",
      "4\n",
      "last deque([1, 0])\n",
      "deque([1, 0])\n",
      "1\n"
     ]
    }
   ],
   "source": [
    "# 무지의 먹방 라이브\n",
    "\n",
    "food_times = [3, 1, 2]\n",
    "k = 5\n",
    "from collections import deque\n",
    "\n",
    "data = deque()\n",
    "\n",
    "for i in food_times:\n",
    "    data.append(i)\n",
    "\n",
    "\n",
    "for i in range(k):\n",
    "    print('start',data)\n",
    "    print(i)\n",
    "\n",
    "    data[0] -= 1\n",
    "    data.append(data.popleft())\n",
    "    print('last',data)\n",
    "    if data[0] == 0:\n",
    "        data.popleft()\n",
    "    print(data)\n",
    "\n",
    "print(data[0])\n"
   ]
  },
  {
   "cell_type": "code",
   "execution_count": 38,
   "metadata": {},
   "outputs": [
    {
     "data": {
      "text/plain": [
       "3"
      ]
     },
     "execution_count": 38,
     "metadata": {},
     "output_type": "execute_result"
    }
   ],
   "source": [
    "a = [1, 2, 3, 4]\n",
    "m = 3\n",
    "a.index(a[m])"
   ]
  },
  {
   "cell_type": "code",
   "execution_count": 146,
   "metadata": {},
   "outputs": [
    {
     "name": "stdout",
     "output_type": "stream",
     "text": [
      "['20', '111', '111']\n",
      "i 20\n",
      "j 2\n",
      "j 0\n",
      "i 111\n",
      "j 1\n",
      "j 1\n",
      "j 1\n",
      "i 111\n",
      "j 1\n",
      "j 1\n",
      "j 1\n",
      "[2, 0, 1]\n"
     ]
    }
   ],
   "source": [
    "s = \"{{20,111},{111}}\"\n",
    "\n",
    "data = [[] for _ in range(len(s))]\n",
    "answer = []\n",
    "cnt = 0\n",
    "for i in range(len(s)):\n",
    "\n",
    "    if s[i] == '{': \n",
    "        continue\n",
    "    elif s[i].isdecimal():\n",
    "        data[cnt].append(s[i]) # 리스트 안에 리스트로 더하는 코드 다시 만들긷\n",
    "    elif s[i] == ',':\n",
    "        cnt += 1\n",
    "\n",
    "\n",
    "\n",
    "data.sort(key=len)\n",
    "\n",
    "for i in range(len(data)): # 빈 리스트 제거\n",
    "    if len(data[i]) > 0:\n",
    "        data = data[i:]\n",
    "        break\n",
    "\n",
    "\n",
    "for i in range(len(data)):\n",
    "    data[i] = ''.join(data[i])\n",
    "\n",
    "print(data)\n",
    "for i in data:\n",
    "    print('i',i)\n",
    "    for j in i:\n",
    "        print('j',j)\n",
    "        if int(j) not in answer:\n",
    "            answer.append(int(j))\n",
    "\n",
    "print(answer)"
   ]
  },
  {
   "cell_type": "code",
   "execution_count": null,
   "metadata": {},
   "outputs": [],
   "source": [
    "import heapq\n",
    "\n",
    "def solution(food_times, k):\n",
    "    # 전체 음식을 먹는 시간보다 k가 크거나 같다면 -1\n",
    "    if sum(food_times) <= k:\n",
    "        return -1\n",
    "    \n",
    "    # 시간이 작은 음식부터 빼야 하므로 우선순위 큐를 이용\n",
    "    q = []\n",
    "    for i in range(len(food_times)):\n",
    "        # (음식 시간, 음식 번호) 형태로 우선순위 큐에 삽입\n",
    "        heapq.heappush(q, (food_times[i], i + 1))\n",
    "\n",
    "    sum_value = 0 # 먹기 위해 사용한 시간\n",
    "    previous = 0 # 직전에 다 먹은 음식 시간\n",
    "    length = len(food_times) # 남은 음식의 개수\n",
    "\n",
    "    # sum_value + (현재의 음식 시간 - 이전 음식 시간) * 현재 음식 개수와 k 비교\n",
    "    while sum_value + ((q[0][0] - previous) * length) <= k:\n",
    "        now = heapq.heappop(q)[0]\n",
    "        sum_value += (now - previous) * length\n",
    "        length -= 1 # 다 먹은 음식 제외\n",
    "        previous = now # 이전 음식 시간 재설정\n",
    "\n",
    "    # 남은 음식 중에서 몇 번째 음식인지 확인하며 출력\n",
    "    result = sorted(q, key = lambda x: x[1]) # 음식의 번호 기준으로 정렬\n",
    "    return result[(k - sum_value) % length][1]"
   ]
  }
 ],
 "metadata": {
  "interpreter": {
   "hash": "f334c9ced55f2f3f69b38fc0536953b966db579d612d0bb945db738266a0eaf1"
  },
  "kernelspec": {
   "display_name": "Python 3.8.12 ('pject')",
   "language": "python",
   "name": "python3"
  },
  "language_info": {
   "codemirror_mode": {
    "name": "ipython",
    "version": 3
   },
   "file_extension": ".py",
   "mimetype": "text/x-python",
   "name": "python",
   "nbconvert_exporter": "python",
   "pygments_lexer": "ipython3",
   "version": "3.8.12"
  },
  "orig_nbformat": 4
 },
 "nbformat": 4,
 "nbformat_minor": 2
}
