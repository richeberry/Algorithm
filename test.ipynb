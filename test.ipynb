{
 "cells": [
  {
   "cell_type": "code",
   "execution_count": 155,
   "metadata": {},
   "outputs": [
    {
     "name": "stdout",
     "output_type": "stream",
     "text": [
      "362\n"
     ]
    }
   ],
   "source": [
    "from collections import deque\n",
    "n = 5\n",
    "mat = [list(map(int, input().split())) for _ in range(n)]\n",
    "\n",
    "m = int(input())\n",
    "\n",
    "# 회전하기\n",
    "for i in range(m):\n",
    "    row, direction, num = map(int, input().split())\n",
    "    now = deque(mat[row-1])\n",
    "    if direction == 0:\n",
    "        now.rotate(-num)\n",
    "    else:\n",
    "        now.rotate(num)\n",
    "    mat[row-1]=list(now)\n",
    "\n",
    "# 감 개수 세기\n",
    "persi = 0\n",
    "s = 0\n",
    "for i in range(n):\n",
    "    if i <= n//2:\n",
    "        persi += sum(mat[i][s:n-s])\n",
    "        s += 1\n",
    "    \n",
    "    else:\n",
    "        s -= 1\n",
    "        persi += sum(mat[i][s-1:n-s+1])\n",
    "\n",
    "print(persi)"
   ]
  }
 ],
 "metadata": {
  "interpreter": {
   "hash": "f334c9ced55f2f3f69b38fc0536953b966db579d612d0bb945db738266a0eaf1"
  },
  "kernelspec": {
   "display_name": "Python 3.8.12 ('pject')",
   "language": "python",
   "name": "python3"
  },
  "language_info": {
   "codemirror_mode": {
    "name": "ipython",
    "version": 3
   },
   "file_extension": ".py",
   "mimetype": "text/x-python",
   "name": "python",
   "nbconvert_exporter": "python",
   "pygments_lexer": "ipython3",
   "version": "3.8.12"
  },
  "orig_nbformat": 4
 },
 "nbformat": 4,
 "nbformat_minor": 2
}
