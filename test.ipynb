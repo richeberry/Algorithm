{
 "cells": [
  {
   "cell_type": "code",
   "execution_count": 8,
   "metadata": {},
   "outputs": [
    {
     "name": "stdout",
     "output_type": "stream",
     "text": [
      "[3, 3, 6]\n",
      "[2, 2, 2]\n",
      "[6, 2, 5]\n",
      "12000\n"
     ]
    }
   ],
   "source": [
    "money_lst = []\n",
    "\n",
    "for i in range(int(input())):\n",
    "    dice = list(map(int,input().split()))\n",
    "    print(dice)\n",
    "    if len(set(dice)) == 1:\n",
    "        money_lst.append(10000 + dice[0] * 1000) \n",
    "    elif len(set(dice)) == 2:\n",
    "        tmp = dice[0]\n",
    "        for j in range(1, len(dice)):\n",
    "            if tmp == dice[j]:\n",
    "                money_lst.append(1000 + tmp * 100)\n",
    "    else:\n",
    "        money_lst.append(max(dice) * 100)\n",
    "\n",
    "print(max(money_lst))"
   ]
  }
 ],
 "metadata": {
  "interpreter": {
   "hash": "f334c9ced55f2f3f69b38fc0536953b966db579d612d0bb945db738266a0eaf1"
  },
  "kernelspec": {
   "display_name": "Python 3.8.12 ('pject')",
   "language": "python",
   "name": "python3"
  },
  "language_info": {
   "codemirror_mode": {
    "name": "ipython",
    "version": 3
   },
   "file_extension": ".py",
   "mimetype": "text/x-python",
   "name": "python",
   "nbconvert_exporter": "python",
   "pygments_lexer": "ipython3",
   "version": "3.8.12"
  },
  "orig_nbformat": 4
 },
 "nbformat": 4,
 "nbformat_minor": 2
}
