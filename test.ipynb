{
 "cells": [
  {
   "cell_type": "code",
   "execution_count": 176,
   "metadata": {},
   "outputs": [
    {
     "name": "stdout",
     "output_type": "stream",
     "text": [
      "ABCKK13\n"
     ]
    }
   ],
   "source": [
    "# 이코테 _ 구현 _ 문자열 재정렬\n",
    "\n",
    "s = input()\n",
    "\n",
    "alpha = []\n",
    "num = 0\n",
    "\n",
    "for i in s:\n",
    "    if i.isdigit() == True:\n",
    "        num += int(i)\n",
    "    else:\n",
    "        alpha += i\n",
    "\n",
    "alpha.sort()\n",
    "print(f'{\"\".join(alpha)}{num}')"
   ]
  }
 ],
 "metadata": {
  "interpreter": {
   "hash": "f334c9ced55f2f3f69b38fc0536953b966db579d612d0bb945db738266a0eaf1"
  },
  "kernelspec": {
   "display_name": "Python 3.8.12 ('pject')",
   "language": "python",
   "name": "python3"
  },
  "language_info": {
   "codemirror_mode": {
    "name": "ipython",
    "version": 3
   },
   "file_extension": ".py",
   "mimetype": "text/x-python",
   "name": "python",
   "nbconvert_exporter": "python",
   "pygments_lexer": "ipython3",
   "version": "3.8.12"
  },
  "orig_nbformat": 4
 },
 "nbformat": 4,
 "nbformat_minor": 2
}
