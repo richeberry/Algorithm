{
 "cells": [
  {
   "cell_type": "code",
   "execution_count": 12,
   "metadata": {},
   "outputs": [
    {
     "name": "stdout",
     "output_type": "stream",
     "text": [
      "['l', 'e', 'v', 'e', 'l']\n",
      "['l', 'e', 'v', 'e', 'l']\n",
      "YES\n",
      "['m', 'o', 'o', 'n']\n",
      "['n', 'o', 'o', 'm']\n",
      "NO\n",
      "['a', 'b', 'c', 'b', 'a']\n",
      "['a', 'b', 'c', 'b', 'a']\n",
      "YES\n",
      "['s', 'o', 'o', 'n']\n",
      "['n', 'o', 'o', 's']\n",
      "NO\n",
      "['g', 'o', 'o', 'g']\n",
      "['g', 'o', 'o', 'g']\n",
      "YES\n"
     ]
    }
   ],
   "source": [
    "for i in range(int(input())):\n",
    "    txt = ','.join(input().lower()).split(',')\n",
    "    txt_reverse = []\n",
    "    for j in range(len(txt)):\n",
    "        txt_reverse.append(txt[-(j+1)])\n",
    "    if txt == txt_reverse:\n",
    "        print('YES')\n",
    "    else:\n",
    "        print('NO')"
   ]
  }
 ],
 "metadata": {
  "interpreter": {
   "hash": "f334c9ced55f2f3f69b38fc0536953b966db579d612d0bb945db738266a0eaf1"
  },
  "kernelspec": {
   "display_name": "Python 3.8.12 ('pject')",
   "language": "python",
   "name": "python3"
  },
  "language_info": {
   "codemirror_mode": {
    "name": "ipython",
    "version": 3
   },
   "file_extension": ".py",
   "mimetype": "text/x-python",
   "name": "python",
   "nbconvert_exporter": "python",
   "pygments_lexer": "ipython3",
   "version": "3.8.12"
  },
  "orig_nbformat": 4
 },
 "nbformat": 4,
 "nbformat_minor": 2
}
