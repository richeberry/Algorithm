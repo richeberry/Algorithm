{
 "cells": [
  {
   "cell_type": "code",
   "execution_count": 75,
   "metadata": {},
   "outputs": [
    {
     "name": "stdout",
     "output_type": "stream",
     "text": [
      "2\n"
     ]
    }
   ],
   "source": [
    "n,k = 25,5\n",
    "\n",
    "# n이 1이 될 때까지 -1 혹은 나누는 과정을 수행해야하는 최소 횟수를 구하는 프로그램\n",
    "cnt = 0\n",
    "\n",
    "while True:\n",
    "    div = n % k # 나눌 수 있는 최대 수를 제외한 나머지\n",
    "    if n % k == 0: # 바로 나누어 떨어지는 수면\n",
    "        n //= k # \n",
    "        cnt += 1\n",
    "    elif n == 1: # n이 1에 도달하면\n",
    "        break\n",
    "    else: # 나누어 떨어지지 않는 수라면\n",
    "        n -= div # 나누어 떨어질 수 있는 수까지만 빼기\n",
    "        cnt += div # 뺀 수 count에 더하기(한 번에 -1 이므로)\n",
    "\n",
    "print(cnt)"
   ]
  }
 ],
 "metadata": {
  "interpreter": {
   "hash": "545e036c4b32438aced1f6b3c8d38ca151d9c36189e05839cb0aa568fda70ddd"
  },
  "kernelspec": {
   "display_name": "Python",
   "language": "python",
   "name": "python3"
  },
  "language_info": {
   "codemirror_mode": {
    "name": "ipython",
    "version": 3
   },
   "file_extension": ".py",
   "mimetype": "text/x-python",
   "name": "python",
   "nbconvert_exporter": "python",
   "pygments_lexer": "ipython3",
   "version": "3.9.7"
  },
  "orig_nbformat": 4
 },
 "nbformat": 4,
 "nbformat_minor": 2
}
