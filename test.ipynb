{
 "cells": [
  {
   "cell_type": "code",
   "execution_count": 114,
   "metadata": {},
   "outputs": [
    {
     "name": "stdout",
     "output_type": "stream",
     "text": [
      "[80, 50]\n"
     ]
    }
   ],
   "source": [
    "# 최소 직사각형\n",
    "\n",
    "data = [[60, 50], [30, 70], [60, 30], [80, 40]]\n",
    "wallet = data[0]\n",
    "\n",
    "for i in data:\n",
    "    if i[0] < i[1]:\n",
    "        i[0], i[1] = i[1], i[0]\n",
    "    wallet[0] = max(wallet[0], i[0])\n",
    "    wallet[1] = max(wallet[1], i[1])\n",
    "\n",
    "print(wallet)"
   ]
  }
 ],
 "metadata": {
  "interpreter": {
   "hash": "f334c9ced55f2f3f69b38fc0536953b966db579d612d0bb945db738266a0eaf1"
  },
  "kernelspec": {
   "display_name": "Python 3.8.12 ('pject')",
   "language": "python",
   "name": "python3"
  },
  "language_info": {
   "codemirror_mode": {
    "name": "ipython",
    "version": 3
   },
   "file_extension": ".py",
   "mimetype": "text/x-python",
   "name": "python",
   "nbconvert_exporter": "python",
   "pygments_lexer": "ipython3",
   "version": "3.8.12"
  },
  "orig_nbformat": 4
 },
 "nbformat": 4,
 "nbformat_minor": 2
}
