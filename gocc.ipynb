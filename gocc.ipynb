{
 "cells": [
  {
   "cell_type": "code",
   "execution_count": 44,
   "metadata": {},
   "outputs": [
    {
     "name": "stdout",
     "output_type": "stream",
     "text": [
      "+1A\n",
      "{'1A': 1}\n",
      "+3E\n",
      "{'1A': 1, '3E': 1}\n",
      "-1A\n",
      "{'1A': 1, '3E': 1}\n",
      "+4F\n",
      "{'1A': 1, '3E': 1, '4F': 1}\n",
      "+1A\n",
      "{'1A': 2, '3E': 1, '4F': 1}\n",
      "-3E\n",
      "{'1A': 2, '3E': 1, '4F': 1}\n",
      "1A\n"
     ]
    }
   ],
   "source": [
    "# Most Booked Hotel Room\n",
    "\n",
    "book_list=[\"+1A\", \"+3E\", \"-1A\", \"+4F\", \"+1A\", \"-3E\"]\n",
    "count = {} # 호텔 객실을 저장할 딕셔너리 만듦\n",
    "for hotel in book_list:\n",
    "    print(hotel)\n",
    "    if hotel[0] == '+': # 객실이 예약되었으면\n",
    "        if hotel[1:] not in count.keys(): # 예약된 객실이 객실 딕셔너리에 없다면 \n",
    "            count[hotel[1:]] = 0 # 딕셔너리에 객실 추가\n",
    "        count[hotel[1:]] += 1 # 해당 객실에 예약 횟수 +1\n",
    "    print(count)\n",
    "\n",
    "print(max(count, key=count.get))\n"
   ]
  },
  {
   "cell_type": "code",
   "execution_count": 84,
   "metadata": {},
   "outputs": [
    {
     "name": "stdout",
     "output_type": "stream",
     "text": [
      "i 1\n",
      "5\n",
      "2\n",
      "i 2\n",
      "8\n",
      "3\n",
      "i 3\n",
      "9\n",
      "4\n",
      "i 4\n",
      "[0, 3, 4, 6, 9] [2, 1, 5, 8, 9]\n",
      "3\n"
     ]
    }
   ],
   "source": [
    "# Minimum Swaps to make sequences Increasing\n",
    "\n",
    "# nums1 = [1,3,5,4]\n",
    "# nums2 = [1,2,3,7]\n",
    "\n",
    "nums1 = [0,3,5,8,9]\n",
    "nums2 = [2,1,4,6,9]\n",
    "\n",
    "cnt = 0\n",
    "for i in range(1,len(nums1)+1):\n",
    "    print('i', i)\n",
    "    if i+1 == len(nums1):\n",
    "        break\n",
    "    if nums1[i] - nums1[i-1] != nums1[i+1] - nums1[i]: # 1-0, 2-1\n",
    "        print(nums1[i+1])\n",
    "\n",
    "        swap = nums1.index(nums1[i+1])\n",
    "        print(swap)\n",
    "        nums1[swap], nums2[swap] = nums2[swap], nums1[swap]\n",
    "        cnt += 1\n",
    "        \n",
    "\n",
    "\n",
    "print(nums1, nums2)\n",
    "print(cnt)\n"
   ]
  },
  {
   "cell_type": "code",
   "execution_count": 90,
   "metadata": {},
   "outputs": [
    {
     "name": "stdout",
     "output_type": "stream",
     "text": [
      "[True, 6, 6, 6, 6, 6]\n",
      "[False, 6, 6, 6, 6, 6]\n",
      "[True, 1, 6, 6, 6, 6]\n",
      "[False, True, True, 6, 6, 6]\n",
      "[True, 1, 2, 6, 6, 6]\n",
      "[True, 1, 2, 6, 6, 6]\n",
      "[False, True, 1, 1, 6, 6]\n",
      "[True, 1, 2, 3, 6, 6]\n",
      "[True, 1, 2, 2, 6, 6]\n",
      "[False, True, 1, 1, 1, 6]\n",
      "[True, 1, 2, 2, 3, 6]\n",
      "[True, 1, 2, 2, 2, 6]\n",
      "6\n"
     ]
    }
   ],
   "source": [
    "nums1 = [0,3,5,8,9]\n",
    "nums2 = [2,1,4,6,9]\n",
    "\n",
    "n = len(nums1)\n",
    "swap = [True] + [n+1]*n\n",
    "noswap = [False] + [n+1]*n\n",
    "print(swap)\n",
    "print(noswap)\n",
    "\n",
    "for i in range(1,n):\n",
    "    if nums1[i] > nums1[i-1] and nums2[i] > nums2[i-1]:\n",
    "        noswap[i] = noswap[i-1]\n",
    "        print(noswap)\n",
    "        swap[i] = swap[i-1] + 1\n",
    "        print(swap)\n",
    "    if nums1[i] > nums2[i-1] and nums2[i] > nums1[i-1]:\n",
    "        swap[i] = min(noswap[i-1]+1, swap[i])\n",
    "        print(swap)\n",
    "        noswap[i] = min(swap[i-1], noswap[i])\n",
    "    \n",
    "print(min(swap[n], noswap[n]))"
   ]
  }
 ],
 "metadata": {
  "interpreter": {
   "hash": "545e036c4b32438aced1f6b3c8d38ca151d9c36189e05839cb0aa568fda70ddd"
  },
  "kernelspec": {
   "display_name": "Python",
   "language": "python",
   "name": "python3"
  },
  "language_info": {
   "codemirror_mode": {
    "name": "ipython",
    "version": 3
   },
   "file_extension": ".py",
   "mimetype": "text/x-python",
   "name": "python",
   "nbconvert_exporter": "python",
   "pygments_lexer": "ipython3",
   "version": "3.9.7"
  },
  "orig_nbformat": 4
 },
 "nbformat": 4,
 "nbformat_minor": 2
}
